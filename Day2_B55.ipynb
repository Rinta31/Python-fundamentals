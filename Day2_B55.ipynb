{
 "cells": [
  {
   "cell_type": "code",
   "execution_count": null,
   "id": "a244e6f8",
   "metadata": {},
   "outputs": [],
   "source": [
    "#This is a comment --> # is used for commenting the lines"
   ]
  },
  {
   "cell_type": "code",
   "execution_count": null,
   "id": "fb692bc6",
   "metadata": {},
   "outputs": [],
   "source": []
  },
  {
   "cell_type": "code",
   "execution_count": null,
   "id": "ef37acdc",
   "metadata": {},
   "outputs": [],
   "source": [
    "# for executing the cells --> shift + enter"
   ]
  },
  {
   "cell_type": "code",
   "execution_count": null,
   "id": "c008fdfc",
   "metadata": {},
   "outputs": [],
   "source": []
  },
  {
   "cell_type": "code",
   "execution_count": 21,
   "id": "e961d6c8",
   "metadata": {},
   "outputs": [],
   "source": [
    "x = 3\n",
    "\n",
    "y = 2\n"
   ]
  },
  {
   "cell_type": "code",
   "execution_count": 20,
   "id": "4c0985e9",
   "metadata": {},
   "outputs": [
    {
     "data": {
      "text/plain": [
       "5"
      ]
     },
     "execution_count": 20,
     "metadata": {},
     "output_type": "execute_result"
    }
   ],
   "source": [
    "x + y"
   ]
  },
  {
   "cell_type": "code",
   "execution_count": null,
   "id": "4bc4b1ce",
   "metadata": {},
   "outputs": [],
   "source": []
  },
  {
   "cell_type": "code",
   "execution_count": null,
   "id": "c957a35d",
   "metadata": {},
   "outputs": [],
   "source": [
    "#Rules for declaring a variable."
   ]
  },
  {
   "cell_type": "code",
   "execution_count": null,
   "id": "ad54b883",
   "metadata": {},
   "outputs": [],
   "source": [
    "# 1. No name spaces while declaring the variable."
   ]
  },
  {
   "cell_type": "code",
   "execution_count": 3,
   "id": "9b85d9bc",
   "metadata": {
    "scrolled": true
   },
   "outputs": [
    {
     "ename": "SyntaxError",
     "evalue": "invalid syntax (Temp/ipykernel_10172/1513095571.py, line 1)",
     "output_type": "error",
     "traceback": [
      "\u001b[1;36m  File \u001b[1;32m\"C:\\Users\\RINTAS~1\\AppData\\Local\\Temp/ipykernel_10172/1513095571.py\"\u001b[1;36m, line \u001b[1;32m1\u001b[0m\n\u001b[1;33m    first name = 'Rinta'\u001b[0m\n\u001b[1;37m          ^\u001b[0m\n\u001b[1;31mSyntaxError\u001b[0m\u001b[1;31m:\u001b[0m invalid syntax\n"
     ]
    }
   ],
   "source": [
    "first name = 'Rinta'\n",
    "\n",
    "print(first name)"
   ]
  },
  {
   "cell_type": "code",
   "execution_count": null,
   "id": "eb48a2f1",
   "metadata": {},
   "outputs": [],
   "source": [
    "# correct menthod to declare a variable."
   ]
  },
  {
   "cell_type": "code",
   "execution_count": 4,
   "id": "fdaf5b75",
   "metadata": {},
   "outputs": [
    {
     "name": "stdout",
     "output_type": "stream",
     "text": [
      "Rinta\n"
     ]
    }
   ],
   "source": [
    "firstname = 'Rinta'\n",
    "\n",
    "print(firstname)"
   ]
  },
  {
   "cell_type": "code",
   "execution_count": null,
   "id": "6b346f55",
   "metadata": {},
   "outputs": [],
   "source": []
  },
  {
   "cell_type": "code",
   "execution_count": null,
   "id": "75b15c29",
   "metadata": {},
   "outputs": [],
   "source": [
    "# 2. A variable name should not start with a number."
   ]
  },
  {
   "cell_type": "code",
   "execution_count": 5,
   "id": "b57c478a",
   "metadata": {},
   "outputs": [
    {
     "ename": "SyntaxError",
     "evalue": "invalid syntax (Temp/ipykernel_10172/1237886737.py, line 1)",
     "output_type": "error",
     "traceback": [
      "\u001b[1;36m  File \u001b[1;32m\"C:\\Users\\RINTAS~1\\AppData\\Local\\Temp/ipykernel_10172/1237886737.py\"\u001b[1;36m, line \u001b[1;32m1\u001b[0m\n\u001b[1;33m    1name = 'Soni'\u001b[0m\n\u001b[1;37m     ^\u001b[0m\n\u001b[1;31mSyntaxError\u001b[0m\u001b[1;31m:\u001b[0m invalid syntax\n"
     ]
    }
   ],
   "source": [
    "1name = 'Soni'\n",
    "\n",
    "print(1name)"
   ]
  },
  {
   "cell_type": "code",
   "execution_count": null,
   "id": "5a191c30",
   "metadata": {},
   "outputs": [],
   "source": [
    "#Correct format"
   ]
  },
  {
   "cell_type": "code",
   "execution_count": 6,
   "id": "1a65b199",
   "metadata": {},
   "outputs": [
    {
     "name": "stdout",
     "output_type": "stream",
     "text": [
      "Soni\n"
     ]
    }
   ],
   "source": [
    "name1 = 'Soni'\n",
    "\n",
    "print(name1)"
   ]
  },
  {
   "cell_type": "code",
   "execution_count": null,
   "id": "728a435f",
   "metadata": {},
   "outputs": [],
   "source": []
  },
  {
   "cell_type": "code",
   "execution_count": null,
   "id": "3b217162",
   "metadata": {},
   "outputs": [],
   "source": [
    "# 3. A variable name should not contain any special characters."
   ]
  },
  {
   "cell_type": "code",
   "execution_count": 8,
   "id": "bdb406a0",
   "metadata": {},
   "outputs": [
    {
     "ename": "SyntaxError",
     "evalue": "invalid syntax (Temp/ipykernel_10172/462850722.py, line 3)",
     "output_type": "error",
     "traceback": [
      "\u001b[1;36m  File \u001b[1;32m\"C:\\Users\\RINTAS~1\\AppData\\Local\\Temp/ipykernel_10172/462850722.py\"\u001b[1;36m, line \u001b[1;32m3\u001b[0m\n\u001b[1;33m    print(name@)\u001b[0m\n\u001b[1;37m               ^\u001b[0m\n\u001b[1;31mSyntaxError\u001b[0m\u001b[1;31m:\u001b[0m invalid syntax\n"
     ]
    }
   ],
   "source": [
    "name@='Rini'\n",
    "\n",
    "print(name@)"
   ]
  },
  {
   "cell_type": "code",
   "execution_count": 10,
   "id": "99c40183",
   "metadata": {},
   "outputs": [
    {
     "ename": "SyntaxError",
     "evalue": "invalid syntax (Temp/ipykernel_10172/401960840.py, line 1)",
     "output_type": "error",
     "traceback": [
      "\u001b[1;36m  File \u001b[1;32m\"C:\\Users\\RINTAS~1\\AppData\\Local\\Temp/ipykernel_10172/401960840.py\"\u001b[1;36m, line \u001b[1;32m1\u001b[0m\n\u001b[1;33m    fruit% = 'Apple'\u001b[0m\n\u001b[1;37m           ^\u001b[0m\n\u001b[1;31mSyntaxError\u001b[0m\u001b[1;31m:\u001b[0m invalid syntax\n"
     ]
    }
   ],
   "source": [
    "fruit% = 'Apple'\n",
    "\n",
    "print (fruit%)"
   ]
  },
  {
   "cell_type": "code",
   "execution_count": null,
   "id": "3f676b65",
   "metadata": {},
   "outputs": [],
   "source": []
  },
  {
   "cell_type": "code",
   "execution_count": null,
   "id": "657a38f3",
   "metadata": {},
   "outputs": [],
   "source": [
    "# To declare the string -- 3 possible approaches."
   ]
  },
  {
   "cell_type": "code",
   "execution_count": 14,
   "id": "e2765936",
   "metadata": {},
   "outputs": [
    {
     "name": "stdout",
     "output_type": "stream",
     "text": [
      "Varsha\n"
     ]
    }
   ],
   "source": [
    "name = 'Varsha' # single quote\n",
    "\n",
    "print (name)"
   ]
  },
  {
   "cell_type": "code",
   "execution_count": 19,
   "id": "dcb395c8",
   "metadata": {},
   "outputs": [
    {
     "name": "stdout",
     "output_type": "stream",
     "text": [
      "Naveen\n"
     ]
    }
   ],
   "source": [
    "name1 = \"Naveen\" # double quote\n",
    "\n",
    "print (name1)"
   ]
  },
  {
   "cell_type": "code",
   "execution_count": 18,
   "id": "2c9ea135",
   "metadata": {},
   "outputs": [
    {
     "name": "stdout",
     "output_type": "stream",
     "text": [
      "Kumar\n"
     ]
    }
   ],
   "source": [
    "name2 = '''Kumar''' # triple quote\n",
    "\n",
    "print (name2)"
   ]
  },
  {
   "cell_type": "code",
   "execution_count": null,
   "id": "63ca0a0d",
   "metadata": {},
   "outputs": [],
   "source": []
  },
  {
   "cell_type": "code",
   "execution_count": null,
   "id": "0aa5ac07",
   "metadata": {},
   "outputs": [],
   "source": []
  }
 ],
 "metadata": {
  "kernelspec": {
   "display_name": "Python 3 (ipykernel)",
   "language": "python",
   "name": "python3"
  },
  "language_info": {
   "codemirror_mode": {
    "name": "ipython",
    "version": 3
   },
   "file_extension": ".py",
   "mimetype": "text/x-python",
   "name": "python",
   "nbconvert_exporter": "python",
   "pygments_lexer": "ipython3",
   "version": "3.9.7"
  }
 },
 "nbformat": 4,
 "nbformat_minor": 5
}
