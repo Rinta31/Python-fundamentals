{
 "cells": [
  {
   "cell_type": "code",
   "execution_count": 4,
   "id": "aa646ccb",
   "metadata": {},
   "outputs": [],
   "source": [
    "cars = ['benz','audi','bmw','maruthi','kia','hyundai']"
   ]
  },
  {
   "cell_type": "code",
   "execution_count": 5,
   "id": "d54714ee",
   "metadata": {},
   "outputs": [
    {
     "name": "stdout",
     "output_type": "stream",
     "text": [
      "['benz', 'audi', 'bmw', 'maruthi', 'kia', 'hyundai']\n"
     ]
    }
   ],
   "source": [
    "print (cars)"
   ]
  },
  {
   "cell_type": "code",
   "execution_count": null,
   "id": "4905caeb",
   "metadata": {},
   "outputs": [],
   "source": []
  },
  {
   "cell_type": "code",
   "execution_count": null,
   "id": "12f048ef",
   "metadata": {},
   "outputs": [],
   "source": [
    "# req: To get the output in a alphabetical order ------> A-Z"
   ]
  },
  {
   "cell_type": "code",
   "execution_count": 6,
   "id": "8bbe52eb",
   "metadata": {},
   "outputs": [
    {
     "name": "stdout",
     "output_type": "stream",
     "text": [
      "['audi', 'benz', 'bmw', 'hyundai', 'kia', 'maruthi']\n"
     ]
    }
   ],
   "source": [
    "print (sorted(cars))    # temp approach"
   ]
  },
  {
   "cell_type": "code",
   "execution_count": null,
   "id": "4ced3d28",
   "metadata": {},
   "outputs": [],
   "source": []
  },
  {
   "cell_type": "code",
   "execution_count": 7,
   "id": "bfb913da",
   "metadata": {},
   "outputs": [
    {
     "name": "stdout",
     "output_type": "stream",
     "text": [
      "['benz', 'audi', 'bmw', 'maruthi', 'kia', 'hyundai']\n"
     ]
    }
   ],
   "source": [
    "print (cars)  # back to original order"
   ]
  },
  {
   "cell_type": "code",
   "execution_count": null,
   "id": "b6f46136",
   "metadata": {},
   "outputs": [],
   "source": []
  },
  {
   "cell_type": "code",
   "execution_count": 8,
   "id": "2f88957d",
   "metadata": {},
   "outputs": [],
   "source": [
    "cars.sort()"
   ]
  },
  {
   "cell_type": "code",
   "execution_count": 9,
   "id": "66a26ef6",
   "metadata": {},
   "outputs": [
    {
     "name": "stdout",
     "output_type": "stream",
     "text": [
      "['audi', 'benz', 'bmw', 'hyundai', 'kia', 'maruthi']\n"
     ]
    }
   ],
   "source": [
    "print (cars) "
   ]
  },
  {
   "cell_type": "code",
   "execution_count": null,
   "id": "d0a9f1d7",
   "metadata": {},
   "outputs": [],
   "source": []
  },
  {
   "cell_type": "code",
   "execution_count": null,
   "id": "c06a4472",
   "metadata": {},
   "outputs": [],
   "source": [
    "# req: To print the entered list in the reverse order"
   ]
  },
  {
   "cell_type": "code",
   "execution_count": 10,
   "id": "c188ff23",
   "metadata": {},
   "outputs": [],
   "source": [
    "cars.reverse()"
   ]
  },
  {
   "cell_type": "code",
   "execution_count": 11,
   "id": "1724ef11",
   "metadata": {},
   "outputs": [
    {
     "name": "stdout",
     "output_type": "stream",
     "text": [
      "['maruthi', 'kia', 'hyundai', 'bmw', 'benz', 'audi']\n"
     ]
    }
   ],
   "source": [
    "print (cars) "
   ]
  },
  {
   "cell_type": "code",
   "execution_count": null,
   "id": "e5d1c00b",
   "metadata": {},
   "outputs": [],
   "source": []
  },
  {
   "cell_type": "code",
   "execution_count": null,
   "id": "b3e95ff0",
   "metadata": {},
   "outputs": [],
   "source": [
    "# req: To know the count of no of elements in a list"
   ]
  },
  {
   "cell_type": "code",
   "execution_count": 12,
   "id": "594c8168",
   "metadata": {},
   "outputs": [
    {
     "data": {
      "text/plain": [
       "6"
      ]
     },
     "execution_count": 12,
     "metadata": {},
     "output_type": "execute_result"
    }
   ],
   "source": [
    "len(cars)"
   ]
  },
  {
   "cell_type": "code",
   "execution_count": null,
   "id": "f2094585",
   "metadata": {},
   "outputs": [],
   "source": []
  },
  {
   "cell_type": "code",
   "execution_count": 13,
   "id": "a3580458",
   "metadata": {},
   "outputs": [],
   "source": [
    "students = ['ravi','abdul','naveen','kumar','ruksana','simran','keerthi','kalpana']"
   ]
  },
  {
   "cell_type": "code",
   "execution_count": 14,
   "id": "4f4a34a3",
   "metadata": {},
   "outputs": [
    {
     "name": "stdout",
     "output_type": "stream",
     "text": [
      "['ravi', 'abdul', 'naveen', 'kumar', 'ruksana', 'simran', 'keerthi', 'kalpana']\n"
     ]
    }
   ],
   "source": [
    "print (students)"
   ]
  },
  {
   "cell_type": "code",
   "execution_count": null,
   "id": "5e4915ca",
   "metadata": {},
   "outputs": [],
   "source": []
  },
  {
   "cell_type": "code",
   "execution_count": null,
   "id": "553a6bba",
   "metadata": {},
   "outputs": [],
   "source": [
    "# general syntax of slicing"
   ]
  },
  {
   "cell_type": "code",
   "execution_count": null,
   "id": "3b2e1c01",
   "metadata": {},
   "outputs": [],
   "source": [
    "# Want to slice Ravi and Abdul from the entered list output"
   ]
  },
  {
   "cell_type": "code",
   "execution_count": 15,
   "id": "64d26478",
   "metadata": {},
   "outputs": [
    {
     "name": "stdout",
     "output_type": "stream",
     "text": [
      "['ravi']\n"
     ]
    }
   ],
   "source": [
    "print (students[0:1])"
   ]
  },
  {
   "cell_type": "code",
   "execution_count": 16,
   "id": "9d609929",
   "metadata": {},
   "outputs": [
    {
     "name": "stdout",
     "output_type": "stream",
     "text": [
      "['ravi', 'abdul']\n"
     ]
    }
   ],
   "source": [
    "print (students[0:2])   #correct method"
   ]
  },
  {
   "cell_type": "code",
   "execution_count": null,
   "id": "13be8c55",
   "metadata": {},
   "outputs": [],
   "source": []
  },
  {
   "cell_type": "code",
   "execution_count": null,
   "id": "404276c9",
   "metadata": {},
   "outputs": [],
   "source": [
    "# Want to slice naveen and kumar from the entered list output"
   ]
  },
  {
   "cell_type": "code",
   "execution_count": 17,
   "id": "7a750950",
   "metadata": {},
   "outputs": [
    {
     "name": "stdout",
     "output_type": "stream",
     "text": [
      "['naveen', 'kumar']\n"
     ]
    }
   ],
   "source": [
    "print (students[2:4])"
   ]
  },
  {
   "cell_type": "code",
   "execution_count": null,
   "id": "79a3ca1c",
   "metadata": {},
   "outputs": [],
   "source": []
  },
  {
   "cell_type": "code",
   "execution_count": null,
   "id": "2d68573b",
   "metadata": {},
   "outputs": [],
   "source": [
    "# req: To get alternate names as output from the entered list"
   ]
  },
  {
   "cell_type": "code",
   "execution_count": 18,
   "id": "901ffef6",
   "metadata": {},
   "outputs": [
    {
     "name": "stdout",
     "output_type": "stream",
     "text": [
      "['ravi', 'naveen', 'ruksana', 'keerthi']\n"
     ]
    }
   ],
   "source": [
    "print (students[0:8:2])"
   ]
  },
  {
   "cell_type": "code",
   "execution_count": 19,
   "id": "376a31d8",
   "metadata": {},
   "outputs": [
    {
     "name": "stdout",
     "output_type": "stream",
     "text": [
      "['ravi', 'kumar', 'keerthi']\n"
     ]
    }
   ],
   "source": [
    "print (students[0:8:3])"
   ]
  },
  {
   "cell_type": "code",
   "execution_count": 20,
   "id": "0cca4e81",
   "metadata": {},
   "outputs": [
    {
     "name": "stdout",
     "output_type": "stream",
     "text": [
      "['ravi', 'ruksana']\n"
     ]
    }
   ],
   "source": [
    "print (students[0:8:4])"
   ]
  },
  {
   "cell_type": "code",
   "execution_count": 21,
   "id": "2ccb8887",
   "metadata": {},
   "outputs": [
    {
     "name": "stdout",
     "output_type": "stream",
     "text": [
      "['ravi', 'simran']\n"
     ]
    }
   ],
   "source": [
    "print (students[0:8:5])"
   ]
  },
  {
   "cell_type": "code",
   "execution_count": 22,
   "id": "43d88f96",
   "metadata": {},
   "outputs": [
    {
     "name": "stdout",
     "output_type": "stream",
     "text": [
      "['ravi', 'keerthi']\n"
     ]
    }
   ],
   "source": [
    "print (students[0:8:6])"
   ]
  },
  {
   "cell_type": "code",
   "execution_count": 23,
   "id": "14b321fa",
   "metadata": {},
   "outputs": [
    {
     "name": "stdout",
     "output_type": "stream",
     "text": [
      "['ravi', 'kalpana']\n"
     ]
    }
   ],
   "source": [
    "print (students[0:8:7])"
   ]
  },
  {
   "cell_type": "code",
   "execution_count": 24,
   "id": "ca66e73f",
   "metadata": {},
   "outputs": [
    {
     "name": "stdout",
     "output_type": "stream",
     "text": [
      "['ravi']\n"
     ]
    }
   ],
   "source": [
    "print (students[0:8:8])"
   ]
  },
  {
   "cell_type": "code",
   "execution_count": null,
   "id": "0e7bdce4",
   "metadata": {},
   "outputs": [],
   "source": []
  },
  {
   "cell_type": "code",
   "execution_count": null,
   "id": "0c7a0c6e",
   "metadata": {},
   "outputs": [],
   "source": []
  },
  {
   "cell_type": "code",
   "execution_count": null,
   "id": "48c01081",
   "metadata": {},
   "outputs": [],
   "source": []
  },
  {
   "cell_type": "code",
   "execution_count": null,
   "id": "36af16d6",
   "metadata": {},
   "outputs": [],
   "source": []
  },
  {
   "cell_type": "code",
   "execution_count": null,
   "id": "ac9c8848",
   "metadata": {},
   "outputs": [],
   "source": []
  }
 ],
 "metadata": {
  "kernelspec": {
   "display_name": "Python 3 (ipykernel)",
   "language": "python",
   "name": "python3"
  },
  "language_info": {
   "codemirror_mode": {
    "name": "ipython",
    "version": 3
   },
   "file_extension": ".py",
   "mimetype": "text/x-python",
   "name": "python",
   "nbconvert_exporter": "python",
   "pygments_lexer": "ipython3",
   "version": "3.9.7"
  }
 },
 "nbformat": 4,
 "nbformat_minor": 5
}
