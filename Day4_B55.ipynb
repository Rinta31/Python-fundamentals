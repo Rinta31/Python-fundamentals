{
 "cells": [
  {
   "cell_type": "code",
   "execution_count": 1,
   "id": "e01c693d",
   "metadata": {},
   "outputs": [],
   "source": [
    "students = ['anil','kumar','sreeja','Keerthi','rafi','simran'] # 0,1,2,3,4,5"
   ]
  },
  {
   "cell_type": "code",
   "execution_count": 2,
   "id": "2b95adb4",
   "metadata": {},
   "outputs": [
    {
     "name": "stdout",
     "output_type": "stream",
     "text": [
      "['anil', 'kumar', 'sreeja', 'Keerthi', 'rafi', 'simran']\n"
     ]
    }
   ],
   "source": [
    "print (students)"
   ]
  },
  {
   "cell_type": "code",
   "execution_count": null,
   "id": "cebeea41",
   "metadata": {},
   "outputs": [],
   "source": []
  },
  {
   "cell_type": "code",
   "execution_count": 3,
   "id": "1d0a5645",
   "metadata": {},
   "outputs": [
    {
     "data": {
      "text/plain": [
       "list"
      ]
     },
     "execution_count": 3,
     "metadata": {},
     "output_type": "execute_result"
    }
   ],
   "source": [
    "type(students)"
   ]
  },
  {
   "cell_type": "code",
   "execution_count": null,
   "id": "0549afff",
   "metadata": {},
   "outputs": [],
   "source": []
  },
  {
   "cell_type": "code",
   "execution_count": 4,
   "id": "60a7f699",
   "metadata": {},
   "outputs": [
    {
     "name": "stdout",
     "output_type": "stream",
     "text": [
      "['anil', 'kumar', 'sreeja', 'Keerthi', 'rafi', 'simran']\n"
     ]
    }
   ],
   "source": [
    "print (students)"
   ]
  },
  {
   "cell_type": "code",
   "execution_count": null,
   "id": "0b5d6a90",
   "metadata": {},
   "outputs": [],
   "source": []
  },
  {
   "cell_type": "code",
   "execution_count": null,
   "id": "af551ae8",
   "metadata": {},
   "outputs": [],
   "source": [
    "# req: To access the name 'kumar' from above list."
   ]
  },
  {
   "cell_type": "code",
   "execution_count": 5,
   "id": "157c90c1",
   "metadata": {},
   "outputs": [
    {
     "name": "stdout",
     "output_type": "stream",
     "text": [
      "kumar\n"
     ]
    }
   ],
   "source": [
    "print (students[1])"
   ]
  },
  {
   "cell_type": "code",
   "execution_count": null,
   "id": "18869663",
   "metadata": {},
   "outputs": [],
   "source": []
  },
  {
   "cell_type": "code",
   "execution_count": null,
   "id": "41d6c69b",
   "metadata": {},
   "outputs": [],
   "source": [
    "# req: To access the name 'Keerthi' from above list."
   ]
  },
  {
   "cell_type": "code",
   "execution_count": 6,
   "id": "3ec0cb44",
   "metadata": {},
   "outputs": [
    {
     "name": "stdout",
     "output_type": "stream",
     "text": [
      "Keerthi\n"
     ]
    }
   ],
   "source": [
    "print (students[3])"
   ]
  },
  {
   "cell_type": "code",
   "execution_count": null,
   "id": "bf6ed7e5",
   "metadata": {},
   "outputs": [],
   "source": []
  },
  {
   "cell_type": "code",
   "execution_count": 7,
   "id": "5f7b3533",
   "metadata": {},
   "outputs": [
    {
     "name": "stdout",
     "output_type": "stream",
     "text": [
      "['anil', 'kumar', 'sreeja', 'Keerthi', 'rafi', 'simran']\n"
     ]
    }
   ],
   "source": [
    "print (students)"
   ]
  },
  {
   "cell_type": "code",
   "execution_count": null,
   "id": "0445d625",
   "metadata": {},
   "outputs": [],
   "source": []
  },
  {
   "cell_type": "code",
   "execution_count": null,
   "id": "831c1442",
   "metadata": {},
   "outputs": [],
   "source": [
    "#req: To add naveen to the above list"
   ]
  },
  {
   "cell_type": "code",
   "execution_count": 8,
   "id": "a947caf0",
   "metadata": {},
   "outputs": [],
   "source": [
    "students.append('naveen')"
   ]
  },
  {
   "cell_type": "code",
   "execution_count": 9,
   "id": "94b2fe30",
   "metadata": {},
   "outputs": [
    {
     "name": "stdout",
     "output_type": "stream",
     "text": [
      "['anil', 'kumar', 'sreeja', 'Keerthi', 'rafi', 'simran', 'naveen']\n"
     ]
    }
   ],
   "source": [
    "print (students)"
   ]
  },
  {
   "cell_type": "code",
   "execution_count": null,
   "id": "65faaa92",
   "metadata": {},
   "outputs": [],
   "source": []
  },
  {
   "cell_type": "code",
   "execution_count": null,
   "id": "794c0f6c",
   "metadata": {},
   "outputs": [],
   "source": [
    "#req: To add Adil to the above list"
   ]
  },
  {
   "cell_type": "code",
   "execution_count": 10,
   "id": "f1b3db68",
   "metadata": {},
   "outputs": [],
   "source": [
    "students.append('Adil')"
   ]
  },
  {
   "cell_type": "code",
   "execution_count": 11,
   "id": "64803d36",
   "metadata": {},
   "outputs": [
    {
     "name": "stdout",
     "output_type": "stream",
     "text": [
      "['anil', 'kumar', 'sreeja', 'Keerthi', 'rafi', 'simran', 'naveen', 'Adil']\n"
     ]
    }
   ],
   "source": [
    "print (students)"
   ]
  },
  {
   "cell_type": "code",
   "execution_count": null,
   "id": "17ebc2e1",
   "metadata": {},
   "outputs": [],
   "source": []
  },
  {
   "cell_type": "code",
   "execution_count": null,
   "id": "2ec89e99",
   "metadata": {},
   "outputs": [],
   "source": [
    "#req: To add Pallavi in the second index"
   ]
  },
  {
   "cell_type": "code",
   "execution_count": 12,
   "id": "bd76e921",
   "metadata": {},
   "outputs": [],
   "source": [
    "students.insert (2,'Pallavi')"
   ]
  },
  {
   "cell_type": "code",
   "execution_count": 13,
   "id": "ef0b71f5",
   "metadata": {},
   "outputs": [
    {
     "name": "stdout",
     "output_type": "stream",
     "text": [
      "['anil', 'kumar', 'Pallavi', 'sreeja', 'Keerthi', 'rafi', 'simran', 'naveen', 'Adil']\n"
     ]
    }
   ],
   "source": [
    "print (students)"
   ]
  },
  {
   "cell_type": "code",
   "execution_count": 14,
   "id": "93620165",
   "metadata": {},
   "outputs": [
    {
     "name": "stdout",
     "output_type": "stream",
     "text": [
      "Pallavi\n"
     ]
    }
   ],
   "source": [
    "print (students[2])"
   ]
  },
  {
   "cell_type": "code",
   "execution_count": null,
   "id": "26df2a04",
   "metadata": {},
   "outputs": [],
   "source": []
  },
  {
   "cell_type": "code",
   "execution_count": 15,
   "id": "b2eccf8b",
   "metadata": {},
   "outputs": [
    {
     "name": "stdout",
     "output_type": "stream",
     "text": [
      "['anil', 'kumar', 'Pallavi', 'sreeja', 'Keerthi', 'rafi', 'simran', 'naveen', 'Adil']\n"
     ]
    }
   ],
   "source": [
    "print (students)"
   ]
  },
  {
   "cell_type": "code",
   "execution_count": null,
   "id": "886a1c45",
   "metadata": {},
   "outputs": [],
   "source": []
  },
  {
   "cell_type": "code",
   "execution_count": null,
   "id": "e390e423",
   "metadata": {},
   "outputs": [],
   "source": [
    "# req: To change the name Sreeja to Megha"
   ]
  },
  {
   "cell_type": "code",
   "execution_count": 16,
   "id": "bc20518c",
   "metadata": {},
   "outputs": [
    {
     "name": "stdout",
     "output_type": "stream",
     "text": [
      "sreeja\n"
     ]
    }
   ],
   "source": [
    "print(students[3])"
   ]
  },
  {
   "cell_type": "code",
   "execution_count": 17,
   "id": "cf5f0699",
   "metadata": {},
   "outputs": [],
   "source": [
    "students[3] = 'megha'"
   ]
  },
  {
   "cell_type": "code",
   "execution_count": 18,
   "id": "e056fd0e",
   "metadata": {},
   "outputs": [
    {
     "name": "stdout",
     "output_type": "stream",
     "text": [
      "['anil', 'kumar', 'Pallavi', 'megha', 'Keerthi', 'rafi', 'simran', 'naveen', 'Adil']\n"
     ]
    }
   ],
   "source": [
    "print (students)"
   ]
  },
  {
   "cell_type": "code",
   "execution_count": null,
   "id": "48ab53c4",
   "metadata": {},
   "outputs": [],
   "source": []
  },
  {
   "cell_type": "code",
   "execution_count": null,
   "id": "7966e2c2",
   "metadata": {},
   "outputs": [],
   "source": [
    "# req: To delete Anil name from the list"
   ]
  },
  {
   "cell_type": "code",
   "execution_count": 19,
   "id": "03bebc86",
   "metadata": {},
   "outputs": [],
   "source": [
    "del students[0]"
   ]
  },
  {
   "cell_type": "code",
   "execution_count": 20,
   "id": "d9f7b67e",
   "metadata": {},
   "outputs": [
    {
     "name": "stdout",
     "output_type": "stream",
     "text": [
      "['kumar', 'Pallavi', 'megha', 'Keerthi', 'rafi', 'simran', 'naveen', 'Adil']\n"
     ]
    }
   ],
   "source": [
    "print (students)"
   ]
  },
  {
   "cell_type": "code",
   "execution_count": null,
   "id": "3c664bbd",
   "metadata": {},
   "outputs": [],
   "source": []
  },
  {
   "cell_type": "code",
   "execution_count": null,
   "id": "4490d81f",
   "metadata": {},
   "outputs": [],
   "source": []
  }
 ],
 "metadata": {
  "kernelspec": {
   "display_name": "Python 3 (ipykernel)",
   "language": "python",
   "name": "python3"
  },
  "language_info": {
   "codemirror_mode": {
    "name": "ipython",
    "version": 3
   },
   "file_extension": ".py",
   "mimetype": "text/x-python",
   "name": "python",
   "nbconvert_exporter": "python",
   "pygments_lexer": "ipython3",
   "version": "3.9.7"
  }
 },
 "nbformat": 4,
 "nbformat_minor": 5
}
