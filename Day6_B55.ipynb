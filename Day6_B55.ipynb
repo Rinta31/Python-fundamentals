{
 "cells": [
  {
   "cell_type": "code",
   "execution_count": 1,
   "id": "934fc94f",
   "metadata": {},
   "outputs": [],
   "source": [
    "students = ['sunil','ruksana','keerthi','naveen','meghana','sumalatha']"
   ]
  },
  {
   "cell_type": "code",
   "execution_count": 2,
   "id": "d0a3b3ad",
   "metadata": {},
   "outputs": [
    {
     "name": "stdout",
     "output_type": "stream",
     "text": [
      "['sunil', 'ruksana', 'keerthi', 'naveen', 'meghana', 'sumalatha']\n"
     ]
    }
   ],
   "source": [
    "print (students)"
   ]
  },
  {
   "cell_type": "code",
   "execution_count": null,
   "id": "ca6f1830",
   "metadata": {},
   "outputs": [],
   "source": []
  },
  {
   "cell_type": "code",
   "execution_count": null,
   "id": "eed41589",
   "metadata": {},
   "outputs": [],
   "source": [
    "# req: To apreciate all the students above"
   ]
  },
  {
   "cell_type": "code",
   "execution_count": 3,
   "id": "c44f17ae",
   "metadata": {},
   "outputs": [
    {
     "name": "stdout",
     "output_type": "stream",
     "text": [
      "keep up the good work,Sunil\n"
     ]
    }
   ],
   "source": [
    "print(f\"keep up the good work,{students[0].title()}\") # individual appreciation based on index number [0]"
   ]
  },
  {
   "cell_type": "code",
   "execution_count": 4,
   "id": "ce97278c",
   "metadata": {},
   "outputs": [
    {
     "name": "stdout",
     "output_type": "stream",
     "text": [
      "keep up the good work,Ruksana\n"
     ]
    }
   ],
   "source": [
    "print(f\"keep up the good work,{students[1].title()}\")"
   ]
  },
  {
   "cell_type": "code",
   "execution_count": 5,
   "id": "91dd0f69",
   "metadata": {},
   "outputs": [
    {
     "name": "stdout",
     "output_type": "stream",
     "text": [
      "keep up the good work,Keerthi\n"
     ]
    }
   ],
   "source": [
    "print(f\"keep up the good work,{students[2].title()}\")"
   ]
  },
  {
   "cell_type": "code",
   "execution_count": null,
   "id": "b529f6a0",
   "metadata": {},
   "outputs": [],
   "source": []
  },
  {
   "cell_type": "code",
   "execution_count": null,
   "id": "bcfe994c",
   "metadata": {},
   "outputs": [],
   "source": [
    "for tempvar in mainvar\n",
    "\n",
    "print (tempvar)"
   ]
  },
  {
   "cell_type": "code",
   "execution_count": null,
   "id": "75a0fbfe",
   "metadata": {},
   "outputs": [],
   "source": [
    "# let tempvar be 'x'"
   ]
  },
  {
   "cell_type": "code",
   "execution_count": 7,
   "id": "c384c714",
   "metadata": {},
   "outputs": [
    {
     "name": "stdout",
     "output_type": "stream",
     "text": [
      "keep up the good work,Sunil\n",
      "keep up the good work,Ruksana\n",
      "keep up the good work,Keerthi\n",
      "keep up the good work,Naveen\n",
      "keep up the good work,Meghana\n",
      "keep up the good work,Sumalatha\n"
     ]
    }
   ],
   "source": [
    "for x in students:\n",
    "\n",
    "   print(f\"keep up the good work,{x.title()}\")"
   ]
  },
  {
   "cell_type": "code",
   "execution_count": null,
   "id": "ffefffa8",
   "metadata": {},
   "outputs": [],
   "source": []
  },
  {
   "cell_type": "code",
   "execution_count": 8,
   "id": "aa20def0",
   "metadata": {},
   "outputs": [
    {
     "name": "stdout",
     "output_type": "stream",
     "text": [
      "sunil\n",
      "ruksana\n",
      "keerthi\n",
      "naveen\n",
      "meghana\n",
      "sumalatha\n"
     ]
    }
   ],
   "source": [
    "for a in students:\n",
    "\n",
    "   print(a)"
   ]
  },
  {
   "cell_type": "code",
   "execution_count": null,
   "id": "f0928bf4",
   "metadata": {},
   "outputs": [],
   "source": []
  },
  {
   "cell_type": "code",
   "execution_count": null,
   "id": "84104885",
   "metadata": {},
   "outputs": [],
   "source": [
    "# rq: To let students know that \"I will be looking forward for today's github url in my inbox\""
   ]
  },
  {
   "cell_type": "code",
   "execution_count": 10,
   "id": "c9b19fc0",
   "metadata": {},
   "outputs": [
    {
     "name": "stdout",
     "output_type": "stream",
     "text": [
      "keep up the good work,Sunil\n",
      "I will be looking forward for today's github url in my inbox,Sunil\n",
      "keep up the good work,Ruksana\n",
      "I will be looking forward for today's github url in my inbox,Ruksana\n",
      "keep up the good work,Keerthi\n",
      "I will be looking forward for today's github url in my inbox,Keerthi\n",
      "keep up the good work,Naveen\n",
      "I will be looking forward for today's github url in my inbox,Naveen\n",
      "keep up the good work,Meghana\n",
      "I will be looking forward for today's github url in my inbox,Meghana\n",
      "keep up the good work,Sumalatha\n",
      "I will be looking forward for today's github url in my inbox,Sumalatha\n"
     ]
    }
   ],
   "source": [
    "for x in students:\n",
    "   print(f\"keep up the good work,{x.title()}\")\n",
    "   print(f\"I will be looking forward for today's github url in my inbox,{x.title()}\")"
   ]
  },
  {
   "cell_type": "code",
   "execution_count": null,
   "id": "8dcc22e4",
   "metadata": {},
   "outputs": [],
   "source": [
    "# for better arrangement"
   ]
  },
  {
   "cell_type": "code",
   "execution_count": 11,
   "id": "bb14c6fd",
   "metadata": {},
   "outputs": [
    {
     "name": "stdout",
     "output_type": "stream",
     "text": [
      "keep up the good work,Sunil\n",
      "I will be looking forward for today's github url in my inbox,Sunil\n",
      "\n",
      "keep up the good work,Ruksana\n",
      "I will be looking forward for today's github url in my inbox,Ruksana\n",
      "\n",
      "keep up the good work,Keerthi\n",
      "I will be looking forward for today's github url in my inbox,Keerthi\n",
      "\n",
      "keep up the good work,Naveen\n",
      "I will be looking forward for today's github url in my inbox,Naveen\n",
      "\n",
      "keep up the good work,Meghana\n",
      "I will be looking forward for today's github url in my inbox,Meghana\n",
      "\n",
      "keep up the good work,Sumalatha\n",
      "I will be looking forward for today's github url in my inbox,Sumalatha\n",
      "\n"
     ]
    }
   ],
   "source": [
    "for x in students:\n",
    "   print(f\"keep up the good work,{x.title()}\")\n",
    "   print(f\"I will be looking forward for today's github url in my inbox,{x.title()}\\n\")"
   ]
  },
  {
   "cell_type": "code",
   "execution_count": null,
   "id": "b5acc54d",
   "metadata": {},
   "outputs": [],
   "source": []
  },
  {
   "cell_type": "code",
   "execution_count": null,
   "id": "96676b84",
   "metadata": {},
   "outputs": [],
   "source": [
    "#out of the loop, so will be printed only once and in the end of the entire output as a separate sentence."
   ]
  },
  {
   "cell_type": "code",
   "execution_count": 12,
   "id": "3a1f45b0",
   "metadata": {},
   "outputs": [
    {
     "name": "stdout",
     "output_type": "stream",
     "text": [
      "keep up the good work,Sunil\n",
      "I will be looking forward for today's github url in my inbox,Sunil\n",
      "\n",
      "keep up the good work,Ruksana\n",
      "I will be looking forward for today's github url in my inbox,Ruksana\n",
      "\n",
      "keep up the good work,Keerthi\n",
      "I will be looking forward for today's github url in my inbox,Keerthi\n",
      "\n",
      "keep up the good work,Naveen\n",
      "I will be looking forward for today's github url in my inbox,Naveen\n",
      "\n",
      "keep up the good work,Meghana\n",
      "I will be looking forward for today's github url in my inbox,Meghana\n",
      "\n",
      "keep up the good work,Sumalatha\n",
      "I will be looking forward for today's github url in my inbox,Sumalatha\n",
      "\n",
      "Thank you all for joining in the sessions\n"
     ]
    }
   ],
   "source": [
    "for x in students:\n",
    "   print(f\"keep up the good work,{x.title()}\")\n",
    "   print(f\"I will be looking forward for today's github url in my inbox,{x.title()}\\n\")  #in the loop\n",
    "    \n",
    "print(\"Thank you all for joining in the sessions\") #out of the loop"
   ]
  },
  {
   "cell_type": "code",
   "execution_count": null,
   "id": "75c3950d",
   "metadata": {},
   "outputs": [],
   "source": []
  },
  {
   "cell_type": "code",
   "execution_count": null,
   "id": "ae86d4e9",
   "metadata": {},
   "outputs": [],
   "source": []
  },
  {
   "cell_type": "code",
   "execution_count": null,
   "id": "26653363",
   "metadata": {},
   "outputs": [],
   "source": []
  },
  {
   "cell_type": "code",
   "execution_count": null,
   "id": "c0b751a8",
   "metadata": {},
   "outputs": [],
   "source": []
  },
  {
   "cell_type": "code",
   "execution_count": null,
   "id": "f9d43943",
   "metadata": {},
   "outputs": [],
   "source": []
  },
  {
   "cell_type": "code",
   "execution_count": null,
   "id": "37059be1",
   "metadata": {},
   "outputs": [],
   "source": []
  }
 ],
 "metadata": {
  "kernelspec": {
   "display_name": "Python 3 (ipykernel)",
   "language": "python",
   "name": "python3"
  },
  "language_info": {
   "codemirror_mode": {
    "name": "ipython",
    "version": 3
   },
   "file_extension": ".py",
   "mimetype": "text/x-python",
   "name": "python",
   "nbconvert_exporter": "python",
   "pygments_lexer": "ipython3",
   "version": "3.9.7"
  }
 },
 "nbformat": 4,
 "nbformat_minor": 5
}
